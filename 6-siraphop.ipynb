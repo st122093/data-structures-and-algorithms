{
 "cells": [
  {
   "cell_type": "code",
   "execution_count": 1,
   "id": "92fd8286-1c8a-45b8-a98c-9e513ba1d3d6",
   "metadata": {},
   "outputs": [],
   "source": [
    "from random import randrange\n",
    "import matplotlib.pyplot as plt\n",
    "import numpy as np\n",
    "from time import time"
   ]
  },
  {
   "cell_type": "markdown",
   "id": "542ac794-5dd1-424f-80bd-31c78ea593ed",
   "metadata": {},
   "source": [
    "# Quick Sort"
   ]
  },
  {
   "cell_type": "code",
   "execution_count": 2,
   "id": "90e745d4-83c9-4d17-b391-3b2ddcf2f1a6",
   "metadata": {},
   "outputs": [],
   "source": [
    "def quicksort(A, p, r):\n",
    "    A = A.copy()\n",
    "    if p < r:\n",
    "        A, q = partition(A, p, r)\n",
    "        A = quicksort(A, p, q-1)\n",
    "        A = quicksort(A, q+1, r)\n",
    "    return A\n",
    "\n",
    "def partition(A, p, r):\n",
    "    x = A[r]\n",
    "    i = p-1\n",
    "    for j in range(p, r):\n",
    "        if A[j] <= x:\n",
    "            i += 1\n",
    "            A[i], A[j] = A[j], A[i]\n",
    "    A[i+1], A[r] = A[r], A[i+1]\n",
    "    return A, i+1"
   ]
  },
  {
   "cell_type": "markdown",
   "id": "5e243e1a-ec1a-411f-bd25-76e6af352801",
   "metadata": {},
   "source": [
    "# Insertion Sort"
   ]
  },
  {
   "cell_type": "code",
   "execution_count": 3,
   "id": "6d8232ff-ad53-423a-932a-ec714d980433",
   "metadata": {},
   "outputs": [],
   "source": [
    "def insertion_sort(A):\n",
    "    A = A.copy()\n",
    "    for j in range(1, len(A)):\n",
    "        key = A[j]\n",
    "        i = j - 1\n",
    "        while i >= 0 and A[i] > key:\n",
    "            A[i+1] = A[i]\n",
    "            i -= 1 \n",
    "        A[i+1] = key\n",
    "    return A"
   ]
  },
  {
   "cell_type": "markdown",
   "id": "6fee6f9c-08aa-406e-b0e1-76f0f23a30ae",
   "metadata": {},
   "source": [
    "# Bucket Sort"
   ]
  },
  {
   "cell_type": "code",
   "execution_count": 4,
   "id": "682fe2e5-f4b9-47d4-8b1f-0622d6f590df",
   "metadata": {},
   "outputs": [],
   "source": [
    "def bucket_sort(A):\n",
    "    A = A.copy()\n",
    "    n = len(A)\n",
    "    A = [A[i]/100 for i in range(n)]\n",
    "    B = [[] for _ in range(10)]\n",
    "    for i in range(n):\n",
    "        B[int(A[i]*10)].append(A[i])\n",
    "    B_concat = []\n",
    "    for i in range(10):\n",
    "        B_concat += insertion_sort(B[i])\n",
    "    B_concat = [int(B_concat[i]*100) for i in range(n)]\n",
    "    return B_concat"
   ]
  },
  {
   "cell_type": "markdown",
   "id": "b2d7cf34-47d5-4e5a-be52-0ed6cdf6f919",
   "metadata": {},
   "source": [
    "# Counting Sort"
   ]
  },
  {
   "cell_type": "code",
   "execution_count": 5,
   "id": "f3f1dec3-faff-4a9b-9fc7-aa8bd1017b6c",
   "metadata": {},
   "outputs": [],
   "source": [
    "def counting_sort(A):\n",
    "    A = A.copy()\n",
    "    B = [float('nan') for _ in range(len(A))]\n",
    "    k = max(A)\n",
    "    C = [0 for _ in range(k+1)]\n",
    "    for j in range(len(A)):\n",
    "        C[A[j]] += 1\n",
    "    for i in range(1, k+1):\n",
    "        C[i] += C[i-1]\n",
    "    for j in range(len(A)-1, -1, -1):\n",
    "        B[C[A[j]]-1] = A[j]\n",
    "        C[A[j]] -= 1\n",
    "    return B\n",
    "\n",
    "def counting_sort_mod(A, I):\n",
    "    A = A.copy()\n",
    "    B = np.empty(A.shape, dtype=np.int)\n",
    "    B[:] = np.nan\n",
    "    k = np.max(A[:, I])\n",
    "    C = [0 for _ in range(k+1)]\n",
    "    for j in range(len(A)):\n",
    "        C[A[j, I]] += 1\n",
    "    for i in range(1, k+1):\n",
    "        C[i] += C[i-1]\n",
    "    for j in range(len(A)-1, -1, -1):\n",
    "        B[C[A[j, I]]-1] = A[j]\n",
    "        C[A[j, I]] -= 1\n",
    "    return B"
   ]
  },
  {
   "cell_type": "markdown",
   "id": "3ca52308-70dc-495e-9dc9-bfa1a441b8d9",
   "metadata": {},
   "source": [
    "# Radix Sort"
   ]
  },
  {
   "cell_type": "code",
   "execution_count": 6,
   "id": "1273a01a-c07d-4e69-a92e-ff6718176f82",
   "metadata": {},
   "outputs": [],
   "source": [
    "def radix_sort(A):\n",
    "    A = A.copy()\n",
    "    d = len(str(max(A)))\n",
    "    A_new = []\n",
    "    for n in range(len(A)):\n",
    "        A_new.append([])\n",
    "        number = str(A[n]).zfill(d)\n",
    "        for m in range(d):\n",
    "            A_new[n].append(int(number[m]))\n",
    "    A_new = np.array(A_new)\n",
    "    for i in range(d-1, -1, -1):\n",
    "        A_new = counting_sort_mod(A_new, i)\n",
    "    for i in range(1, d):\n",
    "        A_new[:, -i-1] *= 10**(i)\n",
    "    A = 0\n",
    "    for i in range(d):\n",
    "        A += A_new[:, i]\n",
    "    return A"
   ]
  },
  {
   "cell_type": "code",
   "execution_count": 7,
   "id": "78e74459-237d-46d6-acc8-8e32df1b9072",
   "metadata": {},
   "outputs": [
    {
     "name": "stdout",
     "output_type": "stream",
     "text": [
      "Input:\n",
      "[78, 2, 66, 80, 64, 27, 15, 23, 47, 73, 94, 59, 57, 21, 47, 72, 52, 61, 19, 5, 49, 60, 13, 72, 48, 35, 40, 0, 18, 65, 63, 16, 39, 57, 80, 70, 3, 56, 52, 62, 14, 86, 34, 48, 44, 81, 95, 73, 93, 7, 42, 42, 58, 61, 15, 11, 91, 59, 15, 35, 19, 18, 66, 5, 49, 69, 44, 85, 13, 54, 3, 22, 36, 25, 21, 8, 28, 31, 14, 32, 70, 98, 94, 4, 6, 42, 58, 54, 20, 77, 60, 81, 58, 68, 69, 62, 24, 16, 0, 84]\n"
     ]
    }
   ],
   "source": [
    "A = [randrange(99) for _ in range(100)]\n",
    "\n",
    "print('Input:')\n",
    "print(A)"
   ]
  },
  {
   "cell_type": "code",
   "execution_count": 8,
   "id": "75ec4157-2c42-4dd9-a9ee-f68b83b3dee1",
   "metadata": {},
   "outputs": [
    {
     "name": "stdout",
     "output_type": "stream",
     "text": [
      "Sorted by bucket sort algorithm:\n",
      "[0, 0, 2, 3, 3, 4, 5, 5, 6, 7, 8, 11, 13, 13, 14, 14, 15, 15, 15, 16, 16, 18, 18, 19, 19, 20, 21, 21, 22, 23, 24, 25, 27, 28, 31, 32, 34, 35, 35, 36, 39, 40, 42, 42, 42, 44, 44, 47, 47, 48, 48, 49, 49, 52, 52, 54, 54, 56, 56, 56, 57, 57, 57, 59, 59, 60, 60, 61, 61, 62, 62, 63, 64, 65, 66, 66, 68, 69, 69, 70, 70, 72, 72, 73, 73, 77, 78, 80, 80, 81, 81, 84, 85, 86, 91, 93, 94, 94, 95, 98]\n"
     ]
    }
   ],
   "source": [
    "sorted_A = bucket_sort(A)\n",
    "\n",
    "print('Sorted by bucket sort algorithm:')\n",
    "print(sorted_A)"
   ]
  },
  {
   "cell_type": "code",
   "execution_count": 9,
   "id": "5e8d672c-1205-4ab9-93ab-f23611f95ce9",
   "metadata": {},
   "outputs": [
    {
     "name": "stdout",
     "output_type": "stream",
     "text": [
      "Sorted by radix sort algorithm:\n",
      "[ 0  0  2  3  3  4  5  5  6  7  8 11 13 13 14 14 15 15 15 16 16 18 18 19\n",
      " 19 20 21 21 22 23 24 25 27 28 31 32 34 35 35 36 39 40 42 42 42 44 44 47\n",
      " 47 48 48 49 49 52 52 54 54 56 57 57 58 58 58 59 59 60 60 61 61 62 62 63\n",
      " 64 65 66 66 68 69 69 70 70 72 72 73 73 77 78 80 80 81 81 84 85 86 91 93\n",
      " 94 94 95 98]\n"
     ]
    }
   ],
   "source": [
    "sorted_A = radix_sort(A)\n",
    "\n",
    "print('Sorted by radix sort algorithm:')\n",
    "print(sorted_A)"
   ]
  },
  {
   "cell_type": "code",
   "execution_count": 10,
   "id": "c78b8a45-54cf-4ba8-aa5e-fd3374d0d088",
   "metadata": {},
   "outputs": [],
   "source": [
    "t_quick = []\n",
    "t_bucket = []\n",
    "t_radix = []\n",
    "n = [int(10**((n+2)/4)) for n in range(12)]\n",
    "\n",
    "for i in range(len(n)):\n",
    "    A = [randrange(99) for _ in range(n[i])]\n",
    "    \n",
    "    t0 = time()\n",
    "    sorted_A = quicksort(A, 0, len(A)-1)\n",
    "    t_quick.append((time()-t0)*1000)\n",
    "    \n",
    "    t0 = time()\n",
    "    sorted_A = bucket_sort(A)\n",
    "    t_bucket.append((time()-t0)*1000)\n",
    "    \n",
    "    t0 = time()\n",
    "    sorted_A = radix_sort(A)\n",
    "    t_radix.append((time()-t0)*1000)"
   ]
  },
  {
   "cell_type": "code",
   "execution_count": 11,
   "id": "4deadc8d-89d2-43e8-abc2-02ee9da813d0",
   "metadata": {},
   "outputs": [
    {
     "data": {
      "image/png": "[encoded data removed]",
      "text/plain": [
       "<Figure size 432x288 with 1 Axes>"
      ]
     },
     "metadata": {
      "needs_background": "light"
     },
     "output_type": "display_data"
    }
   ],
   "source": [
    "plt.plot(n, t_quick, label='Quick Sort')\n",
    "plt.plot(n, t_bucket, label='Bucket Sort')\n",
    "plt.plot(n, t_radix, label='Radix Sort')\n",
    "plt.xlabel('n')\n",
    "plt.ylabel('time (milliseconds)')\n",
    "plt.legend()\n",
    "plt.show()"
   ]
  }
 ],
 "metadata": {
  "kernelspec": {
   "display_name": "Python 3",
   "language": "python",
   "name": "python3"
  },
  "language_info": {
   "codemirror_mode": {
    "name": "ipython",
    "version": 3
   },
   "file_extension": ".py",
   "mimetype": "text/x-python",
   "name": "python",
   "nbconvert_exporter": "python",
   "pygments_lexer": "ipython3",
   "version": "3.6.8"
  }
 },
 "nbformat": 4,
 "nbformat_minor": 5
}
