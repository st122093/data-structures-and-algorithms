{
 "cells": [
  {
   "cell_type": "code",
   "execution_count": 1,
   "id": "0766275f-28ff-4558-a2d8-aca93beba8cf",
   "metadata": {},
   "outputs": [],
   "source": [
    "from random import randrange\n",
    "from time import time\n",
    "import matplotlib.pyplot as plt"
   ]
  },
  {
   "cell_type": "markdown",
   "id": "5d943ed4-c4e4-48bb-b64e-b940635df402",
   "metadata": {},
   "source": [
    "# Insertion Sort"
   ]
  },
  {
   "cell_type": "code",
   "execution_count": 2,
   "id": "803cd194-f6a6-4d3a-a040-a6643f056e07",
   "metadata": {},
   "outputs": [],
   "source": [
    "def insertion_sort(A):\n",
    "    A = A.copy()\n",
    "    for j in range(1, len(A)):\n",
    "        key = A[j]\n",
    "        i = j - 1\n",
    "        \n",
    "        while i >= 0 and A[i] > key:\n",
    "            A[i+1] = A[i]\n",
    "            i -= 1\n",
    "            \n",
    "        A[i+1] = key\n",
    "        \n",
    "    return A"
   ]
  },
  {
   "cell_type": "markdown",
   "id": "548b11ec-db2a-4d06-8e8f-645159869b85",
   "metadata": {},
   "source": [
    "# Merge Sort"
   ]
  },
  {
   "cell_type": "code",
   "execution_count": 3,
   "id": "afb9dbb8-dbde-4c47-b2f4-83fcb3d638c6",
   "metadata": {},
   "outputs": [],
   "source": [
    "def merge_sort(A, p, r):\n",
    "    A = A.copy()\n",
    "    if p < r:\n",
    "        q = int((p+r)/2)\n",
    "        A = merge_sort(A, p, q)\n",
    "        A = merge_sort(A, q+1, r)\n",
    "        A = merge(A, p, q, r)\n",
    "    return A\n",
    "\n",
    "def merge(A, p, q, r):\n",
    "    n1 = q - p + 1\n",
    "    n2 = r - q\n",
    "    \n",
    "    L = [0 for _ in range(n1+1)]\n",
    "    R = [0 for _ in range(n2+1)]\n",
    "    \n",
    "    L[:-1] = A[p-1:p+n1-1]\n",
    "    R[:-1] = A[q:q+n2]\n",
    "    \n",
    "    L[n1] = float('inf')\n",
    "    R[n2] = float('inf')\n",
    "    \n",
    "    i = 0\n",
    "    j = 0\n",
    "    \n",
    "    for k in range(p-1, r):\n",
    "        if L[i] <= R[j]:\n",
    "            A[k] = L[i]\n",
    "            i += 1\n",
    "        else:\n",
    "            A[k] = R[j]\n",
    "            j += 1\n",
    "    \n",
    "    return A"
   ]
  },
  {
   "cell_type": "code",
   "execution_count": 4,
   "id": "7e6e071e-f881-4de2-9ddb-cbbbff7da10d",
   "metadata": {},
   "outputs": [
    {
     "name": "stdout",
     "output_type": "stream",
     "text": [
      "Input:\n",
      "[28, 9, 40, 33, 6, 53, 57, 24, 34, 27, 20, 93, 93, 55, 52]\n"
     ]
    }
   ],
   "source": [
    "A = [randrange(100) for _ in range(15)]\n",
    "\n",
    "print('Input:')\n",
    "print(A)"
   ]
  },
  {
   "cell_type": "code",
   "execution_count": 5,
   "id": "31ceda82-7ae4-4cc6-aa6f-85409778d9ca",
   "metadata": {},
   "outputs": [
    {
     "name": "stdout",
     "output_type": "stream",
     "text": [
      "Sorted by insertion sort algorithm:\n",
      "[6, 9, 20, 24, 27, 28, 33, 34, 40, 52, 53, 55, 57, 93, 93]\n"
     ]
    }
   ],
   "source": [
    "sorted_A = insertion_sort(A)\n",
    "\n",
    "print('Sorted by insertion sort algorithm:')\n",
    "print(sorted_A)"
   ]
  },
  {
   "cell_type": "code",
   "execution_count": 6,
   "id": "7e62a349-36be-4324-8cb4-8daca58d6eeb",
   "metadata": {},
   "outputs": [
    {
     "name": "stdout",
     "output_type": "stream",
     "text": [
      "Sorted by merge sort algorithm:\n",
      "[6, 9, 20, 24, 27, 28, 33, 34, 40, 52, 53, 55, 57, 93, 93]\n"
     ]
    }
   ],
   "source": [
    "sorted_A = merge_sort(A, 1, len(A))\n",
    "\n",
    "print('Sorted by merge sort algorithm:')\n",
    "print(sorted_A)"
   ]
  },
  {
   "cell_type": "code",
   "execution_count": 7,
   "id": "a6cb6a05-eb8b-46fe-8291-46efda3a8da6",
   "metadata": {},
   "outputs": [],
   "source": [
    "t_insertion = []\n",
    "t_merge = []\n",
    "\n",
    "n = [100*(n+1) for n in range(10)]\n",
    "\n",
    "for i in range(10):\n",
    "    A = [randrange(100) for _ in range(n[i])]\n",
    "    \n",
    "    t0 = time()\n",
    "    sorted_A = insertion_sort(A)\n",
    "    t_insertion.append((time()-t0)*1000)\n",
    "    \n",
    "    t0 = time()\n",
    "    sorted_A = merge_sort(A, 1, len(A))\n",
    "    t_merge.append((time()-t0)*1000)"
   ]
  },
  {
   "cell_type": "code",
   "execution_count": 8,
   "id": "9bb9101b-4253-4db9-93c6-c4cda59f8738",
   "metadata": {},
   "outputs": [
    {
     "data": {
      "image/png": "[encoded data removed]",
      "text/plain": [
       "<Figure size 432x288 with 1 Axes>"
      ]
     },
     "metadata": {
      "needs_background": "light"
     },
     "output_type": "display_data"
    }
   ],
   "source": [
    "plt.plot(n, t_insertion, label='Insertion Sort')\n",
    "plt.plot(n, t_merge, label='Merge Sort')\n",
    "plt.xlabel('n')\n",
    "plt.ylabel('time (milliseconds)')\n",
    "plt.legend()\n",
    "plt.show()"
   ]
  }
 ],
 "metadata": {
  "kernelspec": {
   "display_name": "Python 3",
   "language": "python",
   "name": "python3"
  },
  "language_info": {
   "codemirror_mode": {
    "name": "ipython",
    "version": 3
   },
   "file_extension": ".py",
   "mimetype": "text/x-python",
   "name": "python",
   "nbconvert_exporter": "python",
   "pygments_lexer": "ipython3",
   "version": "3.6.8"
  }
 },
 "nbformat": 4,
 "nbformat_minor": 5
}
