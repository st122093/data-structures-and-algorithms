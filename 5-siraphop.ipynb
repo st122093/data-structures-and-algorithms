{
 "cells": [
  {
   "cell_type": "code",
   "execution_count": 1,
   "id": "fcc61365-3140-41fd-9eae-3a5d19a7076d",
   "metadata": {},
   "outputs": [],
   "source": [
    "from random import randrange"
   ]
  },
  {
   "cell_type": "markdown",
   "id": "f3a72b64-ff88-4a33-819c-995b0c4a666e",
   "metadata": {},
   "source": [
    "# Heap Sort"
   ]
  },
  {
   "cell_type": "code",
   "execution_count": 2,
   "id": "089a871f-c7aa-4a2b-b164-e21b3bf80f44",
   "metadata": {},
   "outputs": [],
   "source": [
    "def heapsort(A):\n",
    "    A = A.copy()\n",
    "    A = build_max_heap(A)\n",
    "    for i in range(len(A)-1, 0, -1):\n",
    "        A[0], A[i] = A[i], A[0]\n",
    "        A[:i] = max_heapify(A[:i], 0)\n",
    "    return A\n",
    "    \n",
    "def build_max_heap(A):\n",
    "    for i in range(int(len(A)/2)-1, -1, -1):\n",
    "        A = max_heapify(A, i)\n",
    "    return A\n",
    "        \n",
    "def max_heapify(A, i):\n",
    "    l = 2*i+1\n",
    "    r = 2*i+2\n",
    "    if l < len(A) and A[l] > A[i]:\n",
    "        largest = l\n",
    "    else:\n",
    "        largest = i\n",
    "    if r < len(A) and A[r] > A[largest]:\n",
    "        largest = r\n",
    "    if largest != i:\n",
    "        A[i], A[largest] = A[largest], A[i]\n",
    "        A = max_heapify(A, largest)\n",
    "    return A"
   ]
  },
  {
   "cell_type": "markdown",
   "id": "e62326a0-ce0a-4b76-9120-e3b455e6dc11",
   "metadata": {},
   "source": [
    "# Quick Sort"
   ]
  },
  {
   "cell_type": "code",
   "execution_count": 3,
   "id": "48330d96-654e-40dd-865b-bdb47ddc5be9",
   "metadata": {},
   "outputs": [],
   "source": [
    "def quicksort(A, p, r):\n",
    "    if p < r:\n",
    "        A, q = partition(A, p, r)\n",
    "        A = quicksort(A, p, q-1)\n",
    "        A = quicksort(A, q+1, r)\n",
    "    return A\n",
    "\n",
    "def partition(A, p, r):\n",
    "    x = A[r]\n",
    "    i = p-1\n",
    "    for j in range(p, r):\n",
    "        if A[j] <= x:\n",
    "            i += 1\n",
    "            A[i], A[j] = A[j], A[i]\n",
    "    A[i+1], A[r] = A[r], A[i+1]\n",
    "    return A, i+1"
   ]
  },
  {
   "cell_type": "code",
   "execution_count": 4,
   "id": "9f9784f3-cd60-451b-8455-9b6c333f188a",
   "metadata": {},
   "outputs": [
    {
     "name": "stdout",
     "output_type": "stream",
     "text": [
      "Input:\n",
      "[11, 0, 12, 1, 16, 0, 3, 1, 9, 1, 8, 7, 10, 11, 4, 5, 7, 8, 3, 3]\n"
     ]
    }
   ],
   "source": [
    "A = [randrange(20) for _ in range(20)]\n",
    "\n",
    "print('Input:')\n",
    "print(A)"
   ]
  },
  {
   "cell_type": "code",
   "execution_count": 5,
   "id": "626cf278-3d89-4bd9-b2ec-4d581645e441",
   "metadata": {},
   "outputs": [
    {
     "name": "stdout",
     "output_type": "stream",
     "text": [
      "Sorted by heap sort algorithm:\n",
      "[0, 0, 1, 1, 1, 3, 3, 3, 4, 5, 7, 7, 8, 8, 9, 10, 11, 11, 12, 16]\n"
     ]
    }
   ],
   "source": [
    "sorted_A = heapsort(A)\n",
    "\n",
    "print('Sorted by heap sort algorithm:')\n",
    "print(sorted_A)"
   ]
  },
  {
   "cell_type": "code",
   "execution_count": 6,
   "id": "47ae5609-15ec-4b0e-9efa-81c4b4421f47",
   "metadata": {},
   "outputs": [
    {
     "name": "stdout",
     "output_type": "stream",
     "text": [
      "Sorted by quick sort algorithm:\n",
      "[0, 0, 1, 1, 1, 3, 3, 3, 4, 5, 7, 7, 8, 8, 9, 10, 11, 11, 12, 16]\n"
     ]
    }
   ],
   "source": [
    "sorted_A = quicksort(A, 0, len(A)-1)\n",
    "\n",
    "print('Sorted by quick sort algorithm:')\n",
    "print(sorted_A)"
   ]
  }
 ],
 "metadata": {
  "kernelspec": {
   "display_name": "Python 3",
   "language": "python",
   "name": "python3"
  },
  "language_info": {
   "codemirror_mode": {
    "name": "ipython",
    "version": 3
   },
   "file_extension": ".py",
   "mimetype": "text/x-python",
   "name": "python",
   "nbconvert_exporter": "python",
   "pygments_lexer": "ipython3",
   "version": "3.6.8"
  }
 },
 "nbformat": 4,
 "nbformat_minor": 5
}
