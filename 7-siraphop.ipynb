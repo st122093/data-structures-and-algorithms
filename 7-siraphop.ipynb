{
 "cells": [
  {
   "cell_type": "code",
   "execution_count": 1,
   "id": "f71bba7a-a430-4aa4-aece-190ac6cb4d44",
   "metadata": {},
   "outputs": [],
   "source": [
    "def check_parenthesis(inp):\n",
    "    open_list = ['{', '[', '(']\n",
    "    close_list = ['}', ']', ')']\n",
    "    stack_list = []\n",
    "    for n in range(len(inp)):\n",
    "        try:\n",
    "            stack_list.append(open_list.index(inp[n]))\n",
    "        except:\n",
    "            try:\n",
    "                if stack_list[-1] == close_list.index(inp[n]):\n",
    "                    del stack_list[-1]\n",
    "                else:\n",
    "                    return 'Not ok'\n",
    "            except:\n",
    "                return 'Not ok'\n",
    "    if len(stack_list) == 0:\n",
    "        return 'Ok'\n",
    "    else:\n",
    "        return 'Not ok'"
   ]
  },
  {
   "cell_type": "code",
   "execution_count": 2,
   "id": "f26dea6d-64b7-4035-87d6-34efbf08425a",
   "metadata": {},
   "outputs": [
    {
     "name": "stdout",
     "output_type": "stream",
     "text": [
      "Input:\n",
      "{[[]]{()}}\n",
      "\n",
      "Ok\n"
     ]
    }
   ],
   "source": [
    "inp = '{[[]]{()}}'\n",
    "\n",
    "print('Input:')\n",
    "print(inp)\n",
    "print('')\n",
    "print(check_parenthesis(inp))"
   ]
  },
  {
   "cell_type": "code",
   "execution_count": 3,
   "id": "6d7736e1-0227-4db7-8b04-f4b0e8dfbbbd",
   "metadata": {},
   "outputs": [
    {
     "name": "stdout",
     "output_type": "stream",
     "text": [
      "Input:\n",
      "[{}\n",
      "\n",
      "Not ok\n"
     ]
    }
   ],
   "source": [
    "inp = '[{}'\n",
    "\n",
    "print('Input:')\n",
    "print(inp)\n",
    "print('')\n",
    "print(check_parenthesis(inp))"
   ]
  },
  {
   "cell_type": "code",
   "execution_count": 4,
   "id": "ac193996-ccbe-4d47-8c18-9e1880eb39db",
   "metadata": {},
   "outputs": [
    {
     "name": "stdout",
     "output_type": "stream",
     "text": [
      "Input:\n",
      "()]\n",
      "\n",
      "Not ok\n"
     ]
    }
   ],
   "source": [
    "inp = '()]'\n",
    "\n",
    "print('Input:')\n",
    "print(inp)\n",
    "print('')\n",
    "print(check_parenthesis(inp))"
   ]
  }
 ],
 "metadata": {
  "kernelspec": {
   "display_name": "Python 3",
   "language": "python",
   "name": "python3"
  },
  "language_info": {
   "codemirror_mode": {
    "name": "ipython",
    "version": 3
   },
   "file_extension": ".py",
   "mimetype": "text/x-python",
   "name": "python",
   "nbconvert_exporter": "python",
   "pygments_lexer": "ipython3",
   "version": "3.6.8"
  }
 },
 "nbformat": 4,
 "nbformat_minor": 5
}
