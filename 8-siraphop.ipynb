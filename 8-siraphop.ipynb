{
 "cells": [
  {
   "cell_type": "code",
   "execution_count": 1,
   "id": "fc198906-cb3e-47e9-9e5c-318269421eee",
   "metadata": {},
   "outputs": [],
   "source": [
    "class Node:\n",
    "    def __init__(self, val):\n",
    "        self.l = None\n",
    "        self.r = None\n",
    "        self.v = val\n",
    "        self.p = None\n",
    "\n",
    "class Tree:\n",
    "    def __init__(self):\n",
    "        self.root = None\n",
    "\n",
    "    def getRoot(self):\n",
    "        return self.root\n",
    "\n",
    "    def add(self, val):\n",
    "        if self.root is None:\n",
    "            self.root = Node(val)\n",
    "        else:\n",
    "            self._add(val, self.root)\n",
    "\n",
    "    def _add(self, val, node):\n",
    "        if val < node.v:\n",
    "            if node.l is not None:\n",
    "                self._add(val, node.l)\n",
    "            else:\n",
    "                node.l = Node(val)\n",
    "                node.l.p = node\n",
    "        else:\n",
    "            if node.r is not None:\n",
    "                self._add(val, node.r)\n",
    "            else:\n",
    "                node.r = Node(val)\n",
    "                node.r.p = node\n",
    "\n",
    "    def find(self, val):\n",
    "        if self.root is not None:\n",
    "            node = self._find(val, self.root)\n",
    "            if node is not None:\n",
    "                print(f\"There is '{node.v}' in this tree\")\n",
    "            else:\n",
    "                print(f\"No '{val}' in this tree\")\n",
    "\n",
    "    def _find(self, val, node):\n",
    "        if val == node.v:\n",
    "            return node\n",
    "        elif val < node.v and node.l is not None:\n",
    "            return self._find(val, node.l)\n",
    "        elif val > node.v and node.r is not None:\n",
    "            return self._find(val, node.r)\n",
    "\n",
    "    def deleteTree(self):\n",
    "        self.root = None\n",
    "\n",
    "    def printTree(self):\n",
    "        if self.root is not None:\n",
    "            self._printTree(self.root)\n",
    "        else:\n",
    "            print('There is no any key in this tree')\n",
    "\n",
    "    def _printTree(self, node):\n",
    "        if node is not None:\n",
    "            self._printTree(node.l)\n",
    "            print(str(node.v), end=' ')\n",
    "            self._printTree(node.r)\n",
    "        \n",
    "    def minimum(self, node):\n",
    "        while node.l is not None:\n",
    "            node = node.l\n",
    "        return node\n",
    "            \n",
    "    def successor(self, val):\n",
    "        node = self._find(val, self.root)\n",
    "        \n",
    "        if node == None:\n",
    "            print(f\"No '{val}' in this tree\")\n",
    "        else:\n",
    "            if node.r is not None:\n",
    "                print(self.minimum(node.r).v)\n",
    "            else:\n",
    "                parent = node.p\n",
    "                while parent is not None and node is parent.r:\n",
    "                    node = parent\n",
    "                    parent = parent.p\n",
    "                if parent is not None:\n",
    "                    print(parent.v)\n",
    "                else:\n",
    "                    print(f\"No seccessor of '{val}'\")\n",
    "                    \n",
    "    def transplant(self, u, v):\n",
    "        if u.p is None:\n",
    "            self.root = v\n",
    "        elif u is u.p.l:\n",
    "            u.p.l = v\n",
    "        else:\n",
    "            u.p.r = v\n",
    "            \n",
    "        if v is not None:\n",
    "            v.p = u.p\n",
    "                    \n",
    "    def delete(self, val):\n",
    "        z = self._find(val, self.root)\n",
    "        \n",
    "        if z.l is None:\n",
    "            self.transplant(z, z.r)\n",
    "        elif z.r is None:\n",
    "            self.transplant(z, z.l)\n",
    "        else:\n",
    "            y = self.minimum(z.r)\n",
    "            if y.p is not z:\n",
    "                self.transplant(y, y.r)\n",
    "                y.r = z.r\n",
    "                y.r.p = y\n",
    "            self.transplant(z, y)\n",
    "            y.l = z.l\n",
    "            y.l.p = y"
   ]
  },
  {
   "cell_type": "code",
   "execution_count": 2,
   "id": "23c9739d-32dc-49f9-be5a-63afa6121314",
   "metadata": {},
   "outputs": [],
   "source": [
    "tree = Tree()"
   ]
  },
  {
   "cell_type": "code",
   "execution_count": 3,
   "id": "1912a0ea-626e-4273-8ab4-95a8babdea3a",
   "metadata": {},
   "outputs": [
    {
     "name": "stdout",
     "output_type": "stream",
     "text": [
      "0 2 3 4 8 "
     ]
    }
   ],
   "source": [
    "tree.add(3)\n",
    "tree.add(4)\n",
    "tree.add(0)\n",
    "tree.add(8)\n",
    "tree.add(2)\n",
    "\n",
    "tree.printTree()"
   ]
  },
  {
   "cell_type": "code",
   "execution_count": 4,
   "id": "76044239-a0d0-47ab-9f4e-e4d72b07888f",
   "metadata": {},
   "outputs": [
    {
     "name": "stdout",
     "output_type": "stream",
     "text": [
      "There is '3' in this tree\n"
     ]
    }
   ],
   "source": [
    "tree.find(3)"
   ]
  },
  {
   "cell_type": "code",
   "execution_count": 5,
   "id": "49cb5d47-2692-46bc-9af0-f0d5df8d0cd3",
   "metadata": {},
   "outputs": [
    {
     "name": "stdout",
     "output_type": "stream",
     "text": [
      "No '10' in this tree\n"
     ]
    }
   ],
   "source": [
    "tree.find(10)"
   ]
  },
  {
   "cell_type": "code",
   "execution_count": 6,
   "id": "0b9a9cdc-9708-433b-bc48-c4a57c3ea7be",
   "metadata": {},
   "outputs": [
    {
     "name": "stdout",
     "output_type": "stream",
     "text": [
      "2\n"
     ]
    }
   ],
   "source": [
    "tree.successor(0)"
   ]
  },
  {
   "cell_type": "code",
   "execution_count": 7,
   "id": "f12f788d-1b36-458b-8c46-79641ee322e9",
   "metadata": {},
   "outputs": [
    {
     "name": "stdout",
     "output_type": "stream",
     "text": [
      "3\n"
     ]
    }
   ],
   "source": [
    "tree.successor(2)"
   ]
  },
  {
   "cell_type": "code",
   "execution_count": 8,
   "id": "499890d5-5788-408a-aae9-25b97bf366b5",
   "metadata": {},
   "outputs": [
    {
     "name": "stdout",
     "output_type": "stream",
     "text": [
      "4\n"
     ]
    }
   ],
   "source": [
    "tree.successor(3)"
   ]
  },
  {
   "cell_type": "code",
   "execution_count": 9,
   "id": "961f6d64-0b61-4235-9927-e94ba789b565",
   "metadata": {},
   "outputs": [
    {
     "name": "stdout",
     "output_type": "stream",
     "text": [
      "8\n"
     ]
    }
   ],
   "source": [
    "tree.successor(4)"
   ]
  },
  {
   "cell_type": "code",
   "execution_count": 10,
   "id": "0856c26d-c17e-4676-8c0e-49db3d22d791",
   "metadata": {},
   "outputs": [
    {
     "name": "stdout",
     "output_type": "stream",
     "text": [
      "No seccessor of '8'\n"
     ]
    }
   ],
   "source": [
    "tree.successor(8)"
   ]
  },
  {
   "cell_type": "code",
   "execution_count": 11,
   "id": "01541e4f-9a71-4223-b833-e4c5b130fddf",
   "metadata": {},
   "outputs": [
    {
     "name": "stdout",
     "output_type": "stream",
     "text": [
      "No '9' in this tree\n"
     ]
    }
   ],
   "source": [
    "tree.successor(9)"
   ]
  },
  {
   "cell_type": "code",
   "execution_count": 12,
   "id": "65e2df5e-dc64-4692-9424-c17684e42226",
   "metadata": {},
   "outputs": [
    {
     "name": "stdout",
     "output_type": "stream",
     "text": [
      "2 3 4 8 "
     ]
    }
   ],
   "source": [
    "tree.delete(0)\n",
    "tree.printTree()"
   ]
  },
  {
   "cell_type": "code",
   "execution_count": 13,
   "id": "759d5e72-4f82-4951-b041-88f72e4feab2",
   "metadata": {},
   "outputs": [
    {
     "name": "stdout",
     "output_type": "stream",
     "text": [
      "2 4 8 "
     ]
    }
   ],
   "source": [
    "tree.delete(3)\n",
    "tree.printTree()"
   ]
  },
  {
   "cell_type": "code",
   "execution_count": 14,
   "id": "ccf5f74f-65e9-4e9b-9597-5ff84115eb4f",
   "metadata": {},
   "outputs": [
    {
     "name": "stdout",
     "output_type": "stream",
     "text": [
      "There is no any key in this tree\n"
     ]
    }
   ],
   "source": [
    "tree.deleteTree()\n",
    "tree.printTree()"
   ]
  }
 ],
 "metadata": {
  "kernelspec": {
   "display_name": "Python 3",
   "language": "python",
   "name": "python3"
  },
  "language_info": {
   "codemirror_mode": {
    "name": "ipython",
    "version": 3
   },
   "file_extension": ".py",
   "mimetype": "text/x-python",
   "name": "python",
   "nbconvert_exporter": "python",
   "pygments_lexer": "ipython3",
   "version": "3.6.8"
  }
 },
 "nbformat": 4,
 "nbformat_minor": 5
}
