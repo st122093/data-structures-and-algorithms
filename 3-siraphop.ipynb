{
 "cells": [
  {
   "cell_type": "code",
   "execution_count": 1,
   "id": "4b466e87-f9cb-4b6e-a6aa-5f3c2b6a7a1c",
   "metadata": {},
   "outputs": [],
   "source": [
    "from random import randrange\n",
    "from time import time\n",
    "import matplotlib.pyplot as plt\n",
    "import math"
   ]
  },
  {
   "cell_type": "code",
   "execution_count": 2,
   "id": "e3d92cc1-864d-43f7-a8df-be34d4aca0e4",
   "metadata": {},
   "outputs": [],
   "source": [
    "def max_crossing_subarray(A, low, mid, high):\n",
    "    left_sum = -float('inf')\n",
    "    sum = 0\n",
    "    for i in range(mid, low-1, -1):\n",
    "        sum += A[i]\n",
    "        if sum > left_sum:\n",
    "            left_sum = sum\n",
    "            max_left = i\n",
    "    right_sum = -float('inf')\n",
    "    sum = 0\n",
    "    for j in range(mid+1, high+1):\n",
    "        sum += A[j]\n",
    "        if sum > right_sum:\n",
    "            right_sum = sum\n",
    "            max_right = j\n",
    "    return max_left, max_right, left_sum+right_sum\n",
    "\n",
    "def maximum_subarray(A, low, high):\n",
    "    if high == low:\n",
    "        return low, high, A[low]\n",
    "    else:\n",
    "        mid = int((low+high)/2)\n",
    "        left_low, left_high, left_sum = maximum_subarray(A, low, mid)\n",
    "        right_low, right_high, right_sum = maximum_subarray(A, mid+1, high)\n",
    "        cross_low, cross_high, cross_sum = max_crossing_subarray(A, low, mid, high)\n",
    "        if left_sum >= right_sum and left_sum >= cross_sum:\n",
    "            return left_low, left_high, left_sum\n",
    "        elif right_sum >= left_sum and right_sum >= cross_sum:\n",
    "            return right_low, right_high, right_sum\n",
    "        else:\n",
    "            return cross_low, cross_high, cross_sum"
   ]
  },
  {
   "cell_type": "code",
   "execution_count": 3,
   "id": "7d1d30c0-6e4a-4839-84e4-c931ef07bc05",
   "metadata": {},
   "outputs": [
    {
     "name": "stdout",
     "output_type": "stream",
     "text": [
      "Input:\n",
      "[0, 3, 5, -4, -2, -10, 3, 8, -3, -5]\n"
     ]
    }
   ],
   "source": [
    "A = [randrange(-10, 10) for _ in range(10)]\n",
    "\n",
    "print('Input:')\n",
    "print(A)"
   ]
  },
  {
   "cell_type": "code",
   "execution_count": 4,
   "id": "575d064d-73e1-48bb-b2bc-a5da2899aaf8",
   "metadata": {},
   "outputs": [
    {
     "name": "stdout",
     "output_type": "stream",
     "text": [
      "Maximum Subarray:\n",
      "- Sum 11\n",
      "- Index Range 7 to 8\n"
     ]
    }
   ],
   "source": [
    "low, high, sum = maximum_subarray(A, 0, len(A)-1)\n",
    "\n",
    "print('Maximum Subarray:')\n",
    "print(f'- Sum {sum}')\n",
    "print(f'- Index Range {low+1} to {high+1}')"
   ]
  },
  {
   "cell_type": "code",
   "execution_count": 5,
   "id": "1b1d8d4c-e63a-4e56-9aff-c94036c2f7ef",
   "metadata": {},
   "outputs": [],
   "source": [
    "t = []\n",
    "n = [int(10**((n+1)/2)) for n in range(0, 12)]\n",
    "\n",
    "for i in range(len(n)):\n",
    "    A = [randrange(-10, 10) for _ in range(n[i])]\n",
    "    \n",
    "    t0 = time()\n",
    "    low, high, sum = maximum_subarray(A, 0, len(A)-1)\n",
    "    t.append((time()-t0)*1000)"
   ]
  },
  {
   "cell_type": "code",
   "execution_count": 6,
   "id": "4c1298bc-d7bd-4b90-9e2f-0a8b7b908534",
   "metadata": {},
   "outputs": [],
   "source": [
    "c = 1/4700\n",
    "theo_t = [n[i]*math.log(n[i], 2)*c for i in range(len(n))]"
   ]
  },
  {
   "cell_type": "code",
   "execution_count": 7,
   "id": "a39051db-2d65-4024-a8d9-b9bd12300b84",
   "metadata": {},
   "outputs": [
    {
     "data": {
      "image/png": "[encoded data removed]",
      "text/plain": [
       "<Figure size 432x288 with 1 Axes>"
      ]
     },
     "metadata": {
      "needs_background": "light"
     },
     "output_type": "display_data"
    }
   ],
   "source": [
    "fig = plt.figure()\n",
    "p = fig.add_subplot(1, 1, 1)\n",
    "p.set_xscale('log')\n",
    "p.plot(n, t, label='Actual Time')\n",
    "p.plot(n, theo_t, label='Theoretical Complexity')\n",
    "plt.xlabel('n')\n",
    "plt.ylabel('time (milliseconds)')\n",
    "plt.legend(bbox_to_anchor=(1.05, 1))\n",
    "plt.show()"
   ]
  }
 ],
 "metadata": {
  "kernelspec": {
   "display_name": "Python 3",
   "language": "python",
   "name": "python3"
  },
  "language_info": {
   "codemirror_mode": {
    "name": "ipython",
    "version": 3
   },
   "file_extension": ".py",
   "mimetype": "text/x-python",
   "name": "python",
   "nbconvert_exporter": "python",
   "pygments_lexer": "ipython3",
   "version": "3.6.8"
  }
 },
 "nbformat": 4,
 "nbformat_minor": 5
}
